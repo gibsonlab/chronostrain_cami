{
 "cells": [
  {
   "cell_type": "markdown",
   "id": "c0ba0df6-85ff-4dde-b3cd-6b05e81e3e6a",
   "metadata": {
    "jp-MarkdownHeadingCollapsed": true
   },
   "source": [
    "# Import statements"
   ]
  },
  {
   "cell_type": "code",
   "execution_count": 21,
   "id": "3de0596d-7a3b-4d0f-84d2-8e3c563f5556",
   "metadata": {},
   "outputs": [],
   "source": [
    "from pathlib import Path\n",
    "from helpers import *\n",
    "\n",
    "from Bio import SeqIO\n",
    "from Bio.Seq import Seq\n",
    "from Bio.SeqRecord import SeqRecord\n",
    "\n",
    "import pandas as pd"
   ]
  },
  {
   "cell_type": "code",
   "execution_count": 11,
   "id": "84d356d2-fd99-4014-975b-30a2823bcdd3",
   "metadata": {},
   "outputs": [
    {
     "name": "stdout",
     "output_type": "stream",
     "text": [
      "env: PATH=/usr/bin:/home/youn/mambaforge/envs/chronostrain2/bin\n"
     ]
    }
   ],
   "source": [
    "\"\"\" ============================================ DO NOT EDIT BELOW ============================================ \"\"\"\n",
    "\"\"\" environment variable extraction \"\"\"\n",
    "try:\n",
    "    VARS_SET\n",
    "except NameError:\n",
    "    VARS_SET = True\n",
    "    _cwd = %pwd\n",
    "    _parent_cwd = Path(_cwd).parent\n",
    "    _start_path = %env PATH\n",
    "        \n",
    "%env PATH=/usr/bin:$_start_path"
   ]
  },
  {
   "cell_type": "markdown",
   "id": "56e516ff-065a-4b83-b8af-3ba652666db8",
   "metadata": {},
   "source": [
    "# Important global vars"
   ]
  },
  {
   "cell_type": "code",
   "execution_count": 36,
   "id": "238c86b8-80c1-4c60-9724-9d9110f80990",
   "metadata": {},
   "outputs": [],
   "source": [
    "gene_basedir = Path().resolve().parent.parent / \"data\" / \"chronostrain_seeds\" / \"Staphylococcus_aureus\"  # the directory to store the gene files and marker index file.\n",
    "refseq_metadata_description = \"Staphylococcus aureus CP000253.1 NCTC 8325\"  # This goes into the metadata of the FASTA records.\n",
    "mlst_id_prefix = \"S_Aureus\"\n",
    "\n",
    "\n",
    "reference_genome_fasta = Path() / \"S_Aureus_Reference.fasta\"\n",
    "assert reference_genome_fasta.exists()"
   ]
  },
  {
   "cell_type": "markdown",
   "id": "72f91e8b-03e2-420f-aa2c-b99562f86cd8",
   "metadata": {},
   "source": [
    "# Extract MLST typing genes."
   ]
  },
  {
   "cell_type": "markdown",
   "id": "e180b7d7-0dc0-4a1c-a9b7-beae003ac02c",
   "metadata": {},
   "source": [
    "## Staphylococcus aureus MLST primers\n",
    "https://pubmlst.org/organisms/staphylococcus-aureus/primers\n",
    "\n",
    "The S. aureus MLST scheme uses internal fragments of the following seven house-keeping genes:\n",
    "\n",
    "    arcC (Carbamate kinase)\n",
    "    aroE (Shikimate dehydrogenase)\n",
    "    glpF (Glycerol kinase)\n",
    "    gmk (Guanylate kinase)\n",
    "    pta (Phosphate acetyltransferase)\n",
    "    tpi (Triosephosphate isomerase)\n",
    "    yqi (Acetyle coenzyme A acetyltransferase)\n",
    "\n",
    "PCR/Sequencing primers\n",
    "\n",
    "    arc up - 5' TTGATTCACCAGCGCGTATTGTC -3'\n",
    "    arc dn - 5' AGGTATCTGCTTCAATCAGCG -3'\n",
    "    aro up - 5' ATCGGAAATCCTATTTCACATTC -3'\n",
    "    aro dn - 5' GGTGTTGTATTAATAACGATATC -3'\n",
    "    glp up - 5' CTAGGAACTGCAATCTTAATCC -3'\n",
    "    glp dn - 5' TGGTAAAATCGCATGTCCAATTC -3'\n",
    "    gmk up - 5' ATCGTTTTATCGGGACCATC -3'\n",
    "    gmk dn - 5' TCATTAACTACAACGTAATCGTA -3'\n",
    "    pta up - 5' GTTAAAATCGTATTACCTGAAGG -3'\n",
    "    pta dn - 5' GACCCTTTTGTTGAAAAGCTTAA -3'\n",
    "    tpi up - 5' TCGTTCATTCTGAACGTCGTGAA -3'\n",
    "    tpi dn - 5' TTTGCACCTTCTAACAATTGTAC -3'\n",
    "    yqi up- 5' CAGCATACAGGACACCTATTGGC -3'\n",
    "    yqi dn- 5' CGTTGAGGAATCGATACTGGAAC -3'"
   ]
  },
  {
   "cell_type": "markdown",
   "id": "08fab8f3-fde1-426c-9b08-72fdad53eb7f",
   "metadata": {},
   "source": [
    "## Code"
   ]
  },
  {
   "cell_type": "code",
   "execution_count": 2,
   "id": "d72bfb44-43d0-4c41-afcc-d4d389adc1e8",
   "metadata": {},
   "outputs": [
    {
     "name": "stdout",
     "output_type": "stream",
     "text": [
      "EMBOSS:6.6.0.0\n"
     ]
    }
   ],
   "source": [
    "!primersearch --version"
   ]
  },
  {
   "cell_type": "code",
   "execution_count": 5,
   "id": "5fa034cf-0682-4f72-aa8f-6a44721a2ff3",
   "metadata": {},
   "outputs": [],
   "source": [
    "def perform_primer_search(gene_name: str, forward_primer: str, rev_primer: str, tmp_basedir: Path):\n",
    "    tmp_dir=tmp_basedir / mlst_id_prefix / gene_name\n",
    "    tmp_dir.mkdir(exist_ok=True, parents=True)\n",
    "    return get_primerhit_as_gene(\n",
    "        chrom_path=reference_genome_fasta,\n",
    "        cluster_name=gene_name,\n",
    "        primer1=forward_primer,\n",
    "        primer2=rev_primer,\n",
    "        mismatch_pct=5,\n",
    "        tmp_dir=tmp_dir\n",
    "    )\n",
    "\n",
    "\n",
    "# ====== Known strain polymorphisms\n",
    "mlst_genes = []\n",
    "tmp_basedir = Path() / \"__tmp\"\n",
    "mlst_genes.append(perform_primer_search(\"arcC\", \"TTGATTCACCAGCGCGTATTGTC\", \"AGGTATCTGCTTCAATCAGCG\", tmp_basedir))\n",
    "mlst_genes.append(perform_primer_search(\"aroE\", \"ATCGGAAATCCTATTTCACATTC\", \"GGTGTTGTATTAATAACGATATC\", tmp_basedir))\n",
    "mlst_genes.append(perform_primer_search(\"glpF\", \"CTAGGAACTGCAATCTTAATCC\", \"TGGTAAAATCGCATGTCCAATTC\", tmp_basedir))\n",
    "mlst_genes.append(perform_primer_search(\"gmk\", \"ATCGTTTTATCGGGACCATC\", \"TCATTAACTACAACGTAATCGTA\", tmp_basedir))\n",
    "mlst_genes.append(perform_primer_search(\"pta\", \"GTTAAAATCGTATTACCTGAAGG\", \"GACCCTTTTGTTGAAAAGCTTAA\", tmp_basedir))\n",
    "mlst_genes.append(perform_primer_search(\"tpi\", \"TCGTTCATTCTGAACGTCGTGAA\", \"TTTGCACCTTCTAACAATTGTAC\", tmp_basedir))\n",
    "mlst_genes.append(perform_primer_search(\"yqi\", \"CAGCATACAGGACACCTATTGGC\", \"CGTTGAGGAATCGATACTGGAAC\", tmp_basedir))\n",
    "\n",
    "import shutil\n",
    "shutil.rmtree(tmp_basedir)"
   ]
  },
  {
   "cell_type": "code",
   "execution_count": 33,
   "id": "36227088-6347-4f06-8059-613ea9686a1b",
   "metadata": {},
   "outputs": [],
   "source": [
    "# Write each individual MLST gene to fasta.\n",
    "mlst_index = []\n",
    "for mlst_gene in mlst_genes:\n",
    "    record = SeqRecord(\n",
    "        seq=mlst_gene.seq,\n",
    "        id=f\"{mlst_id_prefix}_{mlst_gene.name}\",\n",
    "        description=f\"{refseq_metadata_description} Reference: imputed using MLST primer\"\n",
    "    )\n",
    "\n",
    "    filename = f'{mlst_gene.name}.fasta'\n",
    "    with open(gene_basedir / filename, 'wt') as f:\n",
    "        SeqIO.write([record], f, 'fasta')\n",
    "    \n",
    "    mlst_index.append({'Name': f'{mlst_gene.name}', 'Fasta': filename, 'Metadata': 'MLST'})\n",
    "\n",
    "mlst_index = pd.DataFrame(mlst_index)"
   ]
  },
  {
   "cell_type": "code",
   "execution_count": 26,
   "id": "53a4b9ee-7460-4805-9869-87e8256249c6",
   "metadata": {},
   "outputs": [
    {
     "data": {
      "text/html": [
       "<div>\n",
       "<style scoped>\n",
       "    .dataframe tbody tr th:only-of-type {\n",
       "        vertical-align: middle;\n",
       "    }\n",
       "\n",
       "    .dataframe tbody tr th {\n",
       "        vertical-align: top;\n",
       "    }\n",
       "\n",
       "    .dataframe thead th {\n",
       "        text-align: right;\n",
       "    }\n",
       "</style>\n",
       "<table border=\"1\" class=\"dataframe\">\n",
       "  <thead>\n",
       "    <tr style=\"text-align: right;\">\n",
       "      <th></th>\n",
       "      <th>Name</th>\n",
       "      <th>Fasta</th>\n",
       "      <th>Metadata</th>\n",
       "    </tr>\n",
       "  </thead>\n",
       "  <tbody>\n",
       "    <tr>\n",
       "      <th>0</th>\n",
       "      <td>arcC</td>\n",
       "      <td>arcC.fasta</td>\n",
       "      <td>MLST</td>\n",
       "    </tr>\n",
       "    <tr>\n",
       "      <th>1</th>\n",
       "      <td>aroE</td>\n",
       "      <td>aroE.fasta</td>\n",
       "      <td>MLST</td>\n",
       "    </tr>\n",
       "    <tr>\n",
       "      <th>2</th>\n",
       "      <td>glpF</td>\n",
       "      <td>glpF.fasta</td>\n",
       "      <td>MLST</td>\n",
       "    </tr>\n",
       "    <tr>\n",
       "      <th>3</th>\n",
       "      <td>gmk</td>\n",
       "      <td>gmk.fasta</td>\n",
       "      <td>MLST</td>\n",
       "    </tr>\n",
       "    <tr>\n",
       "      <th>4</th>\n",
       "      <td>pta</td>\n",
       "      <td>pta.fasta</td>\n",
       "      <td>MLST</td>\n",
       "    </tr>\n",
       "    <tr>\n",
       "      <th>5</th>\n",
       "      <td>tpi</td>\n",
       "      <td>tpi.fasta</td>\n",
       "      <td>MLST</td>\n",
       "    </tr>\n",
       "    <tr>\n",
       "      <th>6</th>\n",
       "      <td>yqi</td>\n",
       "      <td>yqi.fasta</td>\n",
       "      <td>MLST</td>\n",
       "    </tr>\n",
       "  </tbody>\n",
       "</table>\n",
       "</div>"
      ],
      "text/plain": [
       "   Name       Fasta Metadata\n",
       "0  arcC  arcC.fasta     MLST\n",
       "1  aroE  aroE.fasta     MLST\n",
       "2  glpF  glpF.fasta     MLST\n",
       "3   gmk   gmk.fasta     MLST\n",
       "4   pta   pta.fasta     MLST\n",
       "5   tpi   tpi.fasta     MLST\n",
       "6   yqi   yqi.fasta     MLST"
      ]
     },
     "execution_count": 26,
     "metadata": {},
     "output_type": "execute_result"
    }
   ],
   "source": [
    "mlst_index"
   ]
  },
  {
   "cell_type": "markdown",
   "id": "4a703bbd-8caf-455c-ba40-69c2d3716def",
   "metadata": {},
   "source": [
    "# Extract MetaPhlAn markers."
   ]
  },
  {
   "cell_type": "code",
   "execution_count": 34,
   "id": "daf4cedb-85ea-459b-89bd-5f608a44c6c8",
   "metadata": {},
   "outputs": [],
   "source": [
    "taxon_label = 's__Staphylococcus_aureus'\n",
    "metaphlan_version_id = \"mpa_vJun23_CHOCOPhlAnSGB_202307\"\n",
    "metaphlan_pkl_path = Path(f\"/mnt/e/metaphlan_databases/{metaphlan_version_id}/{metaphlan_version_id}.pkl\")"
   ]
  },
  {
   "cell_type": "code",
   "execution_count": 35,
   "id": "64c34dcd-00f8-442e-bd30-c3bffa94892f",
   "metadata": {},
   "outputs": [],
   "source": [
    "def extract_from_metaphlan(input_metaphlan_pkl: Path):\n",
    "    parser = MetaphlanParser(input_metaphlan_pkl)\n",
    "\n",
    "    # Extract reference seqs\n",
    "    metaphlan_gene_records = []\n",
    "    for marker_name, record in parser.retrieve_marker_seeds(taxon_label):\n",
    "        marker_len = len(record.seq)\n",
    "        print(f\"Found marker `{marker_name}` (length {marker_len})\")\n",
    "        metaphlan_gene_records.append(record)\n",
    "    return metaphlan_gene_records"
   ]
  },
  {
   "cell_type": "code",
   "execution_count": 13,
   "id": "7436597b-3c68-4607-b17a-e3aba6e98477",
   "metadata": {
    "scrolled": true
   },
   "outputs": [],
   "source": [
    "metaphlan_genes = extract_from_metaphlan(metaphlan_pkl_path)"
   ]
  },
  {
   "cell_type": "code",
   "execution_count": 27,
   "id": "408be46b-1915-4c03-9f39-ff57e0b2e741",
   "metadata": {},
   "outputs": [],
   "source": [
    "# Write each individual MetaPhlAn gene to fasta.\n",
    "metaphlan_index = []\n",
    "for metaphlan_gene in metaphlan_genes:\n",
    "    record = SeqRecord(\n",
    "        seq=metaphlan_gene.seq,\n",
    "        id=metaphlan_gene.id,\n",
    "        description=f\"MLST {taxon_label} marker gene version {metaphlan_version_id}\"\n",
    "    )\n",
    "\n",
    "    uniref_id, middle_tag, sgb_id = metaphlan_gene.id.split(\"|\")\n",
    "    # Turn this into something posix-friendly.\n",
    "    filename = f'{uniref_id}-{middle_tag}-{sgb_id}.fasta'\n",
    "    with open(gene_basedir / filename, 'wt') as f:\n",
    "        SeqIO.write([record], f, 'fasta')\n",
    "    \n",
    "    metaphlan_index.append({'Name': f'{uniref_id}-{middle_tag}-{sgb_id}', 'Fasta': filename, 'Metadata': f'MetaPhlAn {metaphlan_version_id}'})\n",
    "\n",
    "metaphlan_index = pd.DataFrame(metaphlan_index)"
   ]
  },
  {
   "cell_type": "code",
   "execution_count": 28,
   "id": "33ca7ce7-c4b2-434c-ab14-74b43841e283",
   "metadata": {},
   "outputs": [
    {
     "data": {
      "text/html": [
       "<div>\n",
       "<style scoped>\n",
       "    .dataframe tbody tr th:only-of-type {\n",
       "        vertical-align: middle;\n",
       "    }\n",
       "\n",
       "    .dataframe tbody tr th {\n",
       "        vertical-align: top;\n",
       "    }\n",
       "\n",
       "    .dataframe thead th {\n",
       "        text-align: right;\n",
       "    }\n",
       "</style>\n",
       "<table border=\"1\" class=\"dataframe\">\n",
       "  <thead>\n",
       "    <tr style=\"text-align: right;\">\n",
       "      <th></th>\n",
       "      <th>Name</th>\n",
       "      <th>Fasta</th>\n",
       "      <th>Metadata</th>\n",
       "    </tr>\n",
       "  </thead>\n",
       "  <tbody>\n",
       "    <tr>\n",
       "      <th>0</th>\n",
       "      <td>UniRef90_W8TVH0-2__6-SGB7852</td>\n",
       "      <td>UniRef90_W8TVH0-2__6-SGB7852.fasta</td>\n",
       "      <td>MetaPhlAn mpa_vJun23_CHOCOPhlAnSGB_202307</td>\n",
       "    </tr>\n",
       "    <tr>\n",
       "      <th>1</th>\n",
       "      <td>UniRef90_W8TSN1-1__3-SGB7852</td>\n",
       "      <td>UniRef90_W8TSN1-1__3-SGB7852.fasta</td>\n",
       "      <td>MetaPhlAn mpa_vJun23_CHOCOPhlAnSGB_202307</td>\n",
       "    </tr>\n",
       "    <tr>\n",
       "      <th>2</th>\n",
       "      <td>UniRef90_Q5HHT2-2__6-SGB7852</td>\n",
       "      <td>UniRef90_Q5HHT2-2__6-SGB7852.fasta</td>\n",
       "      <td>MetaPhlAn mpa_vJun23_CHOCOPhlAnSGB_202307</td>\n",
       "    </tr>\n",
       "    <tr>\n",
       "      <th>3</th>\n",
       "      <td>UniRef90_D7URR4-1__3-SGB7852</td>\n",
       "      <td>UniRef90_D7URR4-1__3-SGB7852.fasta</td>\n",
       "      <td>MetaPhlAn mpa_vJun23_CHOCOPhlAnSGB_202307</td>\n",
       "    </tr>\n",
       "    <tr>\n",
       "      <th>4</th>\n",
       "      <td>UniRef90_A0A0H3JRH2-1__3-SGB7852</td>\n",
       "      <td>UniRef90_A0A0H3JRH2-1__3-SGB7852.fasta</td>\n",
       "      <td>MetaPhlAn mpa_vJun23_CHOCOPhlAnSGB_202307</td>\n",
       "    </tr>\n",
       "    <tr>\n",
       "      <th>...</th>\n",
       "      <td>...</td>\n",
       "      <td>...</td>\n",
       "      <td>...</td>\n",
       "    </tr>\n",
       "    <tr>\n",
       "      <th>195</th>\n",
       "      <td>UniRef90_A0A0U1MN04-1__4-SGB7852</td>\n",
       "      <td>UniRef90_A0A0U1MN04-1__4-SGB7852.fasta</td>\n",
       "      <td>MetaPhlAn mpa_vJun23_CHOCOPhlAnSGB_202307</td>\n",
       "    </tr>\n",
       "    <tr>\n",
       "      <th>196</th>\n",
       "      <td>UniRef90_A0A2K4AGG7-1__4-SGB7852</td>\n",
       "      <td>UniRef90_A0A2K4AGG7-1__4-SGB7852.fasta</td>\n",
       "      <td>MetaPhlAn mpa_vJun23_CHOCOPhlAnSGB_202307</td>\n",
       "    </tr>\n",
       "    <tr>\n",
       "      <th>197</th>\n",
       "      <td>UniRef90_A0A2Y1JNL3-3__6-SGB7852</td>\n",
       "      <td>UniRef90_A0A2Y1JNL3-3__6-SGB7852.fasta</td>\n",
       "      <td>MetaPhlAn mpa_vJun23_CHOCOPhlAnSGB_202307</td>\n",
       "    </tr>\n",
       "    <tr>\n",
       "      <th>198</th>\n",
       "      <td>UniRef90_A0A0E1X8G4-2__6-SGB7852</td>\n",
       "      <td>UniRef90_A0A0E1X8G4-2__6-SGB7852.fasta</td>\n",
       "      <td>MetaPhlAn mpa_vJun23_CHOCOPhlAnSGB_202307</td>\n",
       "    </tr>\n",
       "    <tr>\n",
       "      <th>199</th>\n",
       "      <td>UniRef90_P66915-1__5-SGB7852</td>\n",
       "      <td>UniRef90_P66915-1__5-SGB7852.fasta</td>\n",
       "      <td>MetaPhlAn mpa_vJun23_CHOCOPhlAnSGB_202307</td>\n",
       "    </tr>\n",
       "  </tbody>\n",
       "</table>\n",
       "<p>200 rows × 3 columns</p>\n",
       "</div>"
      ],
      "text/plain": [
       "                                 Name                                   Fasta  \\\n",
       "0        UniRef90_W8TVH0-2__6-SGB7852      UniRef90_W8TVH0-2__6-SGB7852.fasta   \n",
       "1        UniRef90_W8TSN1-1__3-SGB7852      UniRef90_W8TSN1-1__3-SGB7852.fasta   \n",
       "2        UniRef90_Q5HHT2-2__6-SGB7852      UniRef90_Q5HHT2-2__6-SGB7852.fasta   \n",
       "3        UniRef90_D7URR4-1__3-SGB7852      UniRef90_D7URR4-1__3-SGB7852.fasta   \n",
       "4    UniRef90_A0A0H3JRH2-1__3-SGB7852  UniRef90_A0A0H3JRH2-1__3-SGB7852.fasta   \n",
       "..                                ...                                     ...   \n",
       "195  UniRef90_A0A0U1MN04-1__4-SGB7852  UniRef90_A0A0U1MN04-1__4-SGB7852.fasta   \n",
       "196  UniRef90_A0A2K4AGG7-1__4-SGB7852  UniRef90_A0A2K4AGG7-1__4-SGB7852.fasta   \n",
       "197  UniRef90_A0A2Y1JNL3-3__6-SGB7852  UniRef90_A0A2Y1JNL3-3__6-SGB7852.fasta   \n",
       "198  UniRef90_A0A0E1X8G4-2__6-SGB7852  UniRef90_A0A0E1X8G4-2__6-SGB7852.fasta   \n",
       "199      UniRef90_P66915-1__5-SGB7852      UniRef90_P66915-1__5-SGB7852.fasta   \n",
       "\n",
       "                                      Metadata  \n",
       "0    MetaPhlAn mpa_vJun23_CHOCOPhlAnSGB_202307  \n",
       "1    MetaPhlAn mpa_vJun23_CHOCOPhlAnSGB_202307  \n",
       "2    MetaPhlAn mpa_vJun23_CHOCOPhlAnSGB_202307  \n",
       "3    MetaPhlAn mpa_vJun23_CHOCOPhlAnSGB_202307  \n",
       "4    MetaPhlAn mpa_vJun23_CHOCOPhlAnSGB_202307  \n",
       "..                                         ...  \n",
       "195  MetaPhlAn mpa_vJun23_CHOCOPhlAnSGB_202307  \n",
       "196  MetaPhlAn mpa_vJun23_CHOCOPhlAnSGB_202307  \n",
       "197  MetaPhlAn mpa_vJun23_CHOCOPhlAnSGB_202307  \n",
       "198  MetaPhlAn mpa_vJun23_CHOCOPhlAnSGB_202307  \n",
       "199  MetaPhlAn mpa_vJun23_CHOCOPhlAnSGB_202307  \n",
       "\n",
       "[200 rows x 3 columns]"
      ]
     },
     "execution_count": 28,
     "metadata": {},
     "output_type": "execute_result"
    }
   ],
   "source": [
    "metaphlan_index"
   ]
  },
  {
   "cell_type": "markdown",
   "id": "f9d54d06-37bb-4813-902f-1aebb953691e",
   "metadata": {},
   "source": [
    "# Write the index files."
   ]
  },
  {
   "cell_type": "code",
   "execution_count": 31,
   "id": "65d69d6e-be12-4215-867e-32d2a025e32b",
   "metadata": {},
   "outputs": [],
   "source": [
    "concat_index = pd.concat([mlst_index, metaphlan_index])\n",
    "concat_index.to_csv(gene_basedir / \"marker_seed_index.tsv\", sep='\\t', index=False, header=False)"
   ]
  }
 ],
 "metadata": {
  "kernelspec": {
   "display_name": "chronostrain",
   "language": "python",
   "name": "chronostrain"
  },
  "language_info": {
   "codemirror_mode": {
    "name": "ipython",
    "version": 3
   },
   "file_extension": ".py",
   "mimetype": "text/x-python",
   "name": "python",
   "nbconvert_exporter": "python",
   "pygments_lexer": "ipython3",
   "version": "3.10.13"
  }
 },
 "nbformat": 4,
 "nbformat_minor": 5
}
