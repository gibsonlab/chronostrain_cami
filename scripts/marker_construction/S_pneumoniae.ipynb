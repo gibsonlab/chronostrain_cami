{
 "cells": [
  {
   "cell_type": "markdown",
   "id": "c0ba0df6-85ff-4dde-b3cd-6b05e81e3e6a",
   "metadata": {},
   "source": [
    "# Import statements"
   ]
  },
  {
   "cell_type": "code",
   "execution_count": 1,
   "id": "3de0596d-7a3b-4d0f-84d2-8e3c563f5556",
   "metadata": {},
   "outputs": [],
   "source": [
    "from pathlib import Path\n",
    "from helpers import *\n",
    "\n",
    "from Bio import SeqIO\n",
    "from Bio.Seq import Seq\n",
    "from Bio.SeqRecord import SeqRecord\n",
    "\n",
    "import pandas as pd"
   ]
  },
  {
   "cell_type": "code",
   "execution_count": 2,
   "id": "84d356d2-fd99-4014-975b-30a2823bcdd3",
   "metadata": {},
   "outputs": [
    {
     "name": "stdout",
     "output_type": "stream",
     "text": [
      "env: PATH=/usr/bin:/home/youn/mambaforge/envs/chronostrain2/bin\n"
     ]
    }
   ],
   "source": [
    "\"\"\" ============================================ DO NOT EDIT BELOW ============================================ \"\"\"\n",
    "\"\"\" environment variable extraction \"\"\"\n",
    "try:\n",
    "    VARS_SET\n",
    "except NameError:\n",
    "    VARS_SET = True\n",
    "    _cwd = %pwd\n",
    "    _parent_cwd = Path(_cwd).parent\n",
    "    _start_path = %env PATH\n",
    "        \n",
    "%env PATH=/usr/bin:$_start_path"
   ]
  },
  {
   "cell_type": "markdown",
   "id": "56e516ff-065a-4b83-b8af-3ba652666db8",
   "metadata": {},
   "source": [
    "# Important global vars\n",
    "\n",
    "IMPORTANT to edit these!"
   ]
  },
  {
   "cell_type": "code",
   "execution_count": 8,
   "id": "238c86b8-80c1-4c60-9724-9d9110f80990",
   "metadata": {},
   "outputs": [],
   "source": [
    "gene_basedir = Path().resolve().parent.parent / \"data\" / \"chronostrain_seeds\" / \"Streptococcus_pneumoniae\"  # the directory to store the gene files and marker index file.\n",
    "refseq_metadata_description = \"Streptococcus pneumoniae NCTC7465\"  # This goes into the metadata of the FASTA records.\n",
    "mlst_id_prefix = \"S_Pneumoniae\"\n",
    "\n",
    "\n",
    "reference_genome_fasta = Path() / \"S_Pneumoniae_Reference.fasta\"\n",
    "assert reference_genome_fasta.exists()"
   ]
  },
  {
   "cell_type": "markdown",
   "id": "72f91e8b-03e2-420f-aa2c-b99562f86cd8",
   "metadata": {},
   "source": [
    "# Extract MLST typing genes."
   ]
  },
  {
   "cell_type": "markdown",
   "id": "e180b7d7-0dc0-4a1c-a9b7-beae003ac02c",
   "metadata": {},
   "source": [
    "## Streptococcus pneumoniae MLST primers\n",
    "https://pubmlst.org/organisms/staphylococcus-aureus/primers\n",
    "\n",
    "The pneumococcal MLST scheme uses internal fragments of the following seven house-keeping genes:\n",
    "\n",
    "    aroE (shikimate dehydrogenase)\n",
    "    gdh (glucose-6-phosphate dehydrogenase)\n",
    "    gki (glucose kinase)\n",
    "    recP (transketolase)\n",
    "    spi (signal peptidase I)\n",
    "    xpt (xanthine phosphoribosyltransferase)\n",
    "    ddl (D-alanine-D-alanine ligase)\n",
    "\n",
    "PCR/Sequencing primers\n",
    "\n",
    "    aroE-up, 5'-GCC TTT GAG GCG ACA GC \n",
    "    aroE-dn, 5'-TGC AGT TCA (G/A)AA ACA T(A/T)T TCT AA\n",
    "    gdh-up, 5'-ATG GAC AAA CCA GC(G/A/T/C) AG(C/T) TT\n",
    "    gdh-dn, 5'-GCT TGA GGT CCC AT(G/A) CT(G/A/T/C) CC\n",
    "    gki-up, 5'-GGC ATT GGA ATG GGA TCA CC\n",
    "    gki-dn, 5'-TCT CCC GCA GCT GAC AC\n",
    "    recP-up, 5'-GCC AAC TCA GGT CAT CCA GG\n",
    "    recP-dn, 5'- TGC AAC CGT AGC ATT GTA AC\n",
    "    spi-up, 5'-TTA TTC CTC CTG ATT CTG TC \n",
    "    spi-dn, 5'-GTG ATT GGC CAG AAG CGG AA\n",
    "    xpt-up, 5'-TTA TTA GAA GAG CGC ATC CT \n",
    "    xpt-dn, 5'-AGA TCT GCC TCC TTA AAT AC.\n",
    "    ddl-up, 5'-TGC (C/T)CA AGT TCC TTA TGT GG \n",
    "    ddl-dn, 5'-CAC TGG GT(G/A) AAA CC(A/T) GGC AT "
   ]
  },
  {
   "cell_type": "markdown",
   "id": "08fab8f3-fde1-426c-9b08-72fdad53eb7f",
   "metadata": {},
   "source": [
    "## Code"
   ]
  },
  {
   "cell_type": "code",
   "execution_count": 13,
   "id": "d72bfb44-43d0-4c41-afcc-d4d389adc1e8",
   "metadata": {},
   "outputs": [
    {
     "name": "stdout",
     "output_type": "stream",
     "text": [
      "EMBOSS:6.6.0.0\n"
     ]
    }
   ],
   "source": [
    "!primersearch --version"
   ]
  },
  {
   "cell_type": "code",
   "execution_count": 27,
   "id": "5fa034cf-0682-4f72-aa8f-6a44721a2ff3",
   "metadata": {},
   "outputs": [],
   "source": [
    "def perform_primer_search(gene_name: str, forward_primer: str, rev_primer: str, tmp_basedir: Path):\n",
    "    tmp_dir=tmp_basedir / mlst_id_prefix / gene_name\n",
    "    tmp_dir.mkdir(exist_ok=True, parents=True)\n",
    "    return get_primerhit_as_gene(\n",
    "        chrom_path=reference_genome_fasta,\n",
    "        cluster_name=gene_name,\n",
    "        primer1=forward_primer,\n",
    "        primer2=rev_primer,\n",
    "        mismatch_pct=10,  # Raised this from 5 to 10, there's some uncertainty in the IUPAC bases.\n",
    "        tmp_dir=tmp_dir\n",
    "    )\n",
    "\n",
    "\n",
    "# ====== Known strain polymorphisms\n",
    "mlst_genes = []\n",
    "tmp_basedir = Path() / \"__tmp\"\n",
    "mlst_genes.append(perform_primer_search(\"aroE\", \"GCCTTTGAGGCGACAGC\", \"TGCAGTTCAGAAACATATTCTAA\", tmp_basedir))  # ambiguous bases removed. (Does EMBOSS handle IUPAC codes?)\n",
    "mlst_genes.append(perform_primer_search(\"gdh\", \"ATGGACAAACCAGCGAGCTT\", \"GCTTGAGGTCCCATGCTGCC\", tmp_basedir))  # ambiguous bases removed. (Does EMBOSS handle IUPAC codes?)\n",
    "mlst_genes.append(perform_primer_search(\"gki\", \"GGCATTGGAATGGGATCACC\", \"TCTCCCGCAGCTGACAC\", tmp_basedir))\n",
    "# mlst_genes.append(perform_primer_search(\"recP\", \"GCCAACTCAGGTCATCCAGG\", \"TGCAACCGTAGCATTGTAAC\", tmp_basedir))  -> Manual FASTA included\n",
    "# mlst_genes.append(perform_primer_search(\"spi\", \"TTATTCCTCCTGATTCTGTC\", \"GTGATTGGCCAGAAGCGGAA\", tmp_basedir))  -> Manual FASTA included\n",
    "mlst_genes.append(perform_primer_search(\"xpt\", \"TTATTAGAAGAGCGCATCCT\", \"AGATCTGCCTCCTTAAATAC\", tmp_basedir))\n",
    "mlst_genes.append(perform_primer_search(\"ddl\", \"TGCCCAAGTTCCTTATGTGG \", \"CACTGGGTGAAACCAGGCAT\", tmp_basedir))\n",
    "\n",
    "mlst_genes.append(GeneSequence(name=\"tkt2\", seq=SeqIO.read(\"S_pneumoniae_transketolase.fasta\", format=\"fasta\").seq))  # substitute for recP transketolase\n",
    "mlst_genes.append(GeneSequence(name=\"spsB\", seq=SeqIO.read(\"S_pneumoniae_signal_peptidase_I.fasta\", format=\"fasta\").seq))  # substitute for spi signal peptidase I\n",
    "\n",
    "import shutil\n",
    "shutil.rmtree(tmp_basedir)"
   ]
  },
  {
   "cell_type": "code",
   "execution_count": 28,
   "id": "36227088-6347-4f06-8059-613ea9686a1b",
   "metadata": {},
   "outputs": [],
   "source": [
    "# Write each individual MLST gene to fasta.\n",
    "mlst_index = []\n",
    "for mlst_gene in mlst_genes:\n",
    "    record = SeqRecord(\n",
    "        seq=mlst_gene.seq,\n",
    "        id=f\"{mlst_id_prefix}_{mlst_gene.name}\",\n",
    "        description=f\"{refseq_metadata_description} Reference: imputed using MLST primer\"\n",
    "    )\n",
    "\n",
    "    filename = f'{mlst_gene.name}.fasta'\n",
    "    with open(gene_basedir / filename, 'wt') as f:\n",
    "        SeqIO.write([record], f, 'fasta')\n",
    "    \n",
    "    mlst_index.append({'Name': f'{mlst_gene.name}', 'Fasta': filename, 'Metadata': 'MLST'})\n",
    "\n",
    "mlst_index = pd.DataFrame(mlst_index)"
   ]
  },
  {
   "cell_type": "code",
   "execution_count": 29,
   "id": "53a4b9ee-7460-4805-9869-87e8256249c6",
   "metadata": {},
   "outputs": [
    {
     "data": {
      "text/html": [
       "<div>\n",
       "<style scoped>\n",
       "    .dataframe tbody tr th:only-of-type {\n",
       "        vertical-align: middle;\n",
       "    }\n",
       "\n",
       "    .dataframe tbody tr th {\n",
       "        vertical-align: top;\n",
       "    }\n",
       "\n",
       "    .dataframe thead th {\n",
       "        text-align: right;\n",
       "    }\n",
       "</style>\n",
       "<table border=\"1\" class=\"dataframe\">\n",
       "  <thead>\n",
       "    <tr style=\"text-align: right;\">\n",
       "      <th></th>\n",
       "      <th>Name</th>\n",
       "      <th>Fasta</th>\n",
       "      <th>Metadata</th>\n",
       "    </tr>\n",
       "  </thead>\n",
       "  <tbody>\n",
       "    <tr>\n",
       "      <th>0</th>\n",
       "      <td>aroE</td>\n",
       "      <td>aroE.fasta</td>\n",
       "      <td>MLST</td>\n",
       "    </tr>\n",
       "    <tr>\n",
       "      <th>1</th>\n",
       "      <td>gdh</td>\n",
       "      <td>gdh.fasta</td>\n",
       "      <td>MLST</td>\n",
       "    </tr>\n",
       "    <tr>\n",
       "      <th>2</th>\n",
       "      <td>gki</td>\n",
       "      <td>gki.fasta</td>\n",
       "      <td>MLST</td>\n",
       "    </tr>\n",
       "    <tr>\n",
       "      <th>3</th>\n",
       "      <td>xpt</td>\n",
       "      <td>xpt.fasta</td>\n",
       "      <td>MLST</td>\n",
       "    </tr>\n",
       "    <tr>\n",
       "      <th>4</th>\n",
       "      <td>ddl</td>\n",
       "      <td>ddl.fasta</td>\n",
       "      <td>MLST</td>\n",
       "    </tr>\n",
       "    <tr>\n",
       "      <th>5</th>\n",
       "      <td>tkt2</td>\n",
       "      <td>tkt2.fasta</td>\n",
       "      <td>MLST</td>\n",
       "    </tr>\n",
       "    <tr>\n",
       "      <th>6</th>\n",
       "      <td>spsB</td>\n",
       "      <td>spsB.fasta</td>\n",
       "      <td>MLST</td>\n",
       "    </tr>\n",
       "  </tbody>\n",
       "</table>\n",
       "</div>"
      ],
      "text/plain": [
       "   Name       Fasta Metadata\n",
       "0  aroE  aroE.fasta     MLST\n",
       "1   gdh   gdh.fasta     MLST\n",
       "2   gki   gki.fasta     MLST\n",
       "3   xpt   xpt.fasta     MLST\n",
       "4   ddl   ddl.fasta     MLST\n",
       "5  tkt2  tkt2.fasta     MLST\n",
       "6  spsB  spsB.fasta     MLST"
      ]
     },
     "execution_count": 29,
     "metadata": {},
     "output_type": "execute_result"
    }
   ],
   "source": [
    "mlst_index"
   ]
  },
  {
   "cell_type": "markdown",
   "id": "4a703bbd-8caf-455c-ba40-69c2d3716def",
   "metadata": {},
   "source": [
    "# Extract MetaPhlAn markers."
   ]
  },
  {
   "cell_type": "code",
   "execution_count": 30,
   "id": "daf4cedb-85ea-459b-89bd-5f608a44c6c8",
   "metadata": {},
   "outputs": [],
   "source": [
    "taxon_label = 's__Streptococcus_pneumoniae'\n",
    "metaphlan_version_id = \"mpa_vJun23_CHOCOPhlAnSGB_202307\"\n",
    "metaphlan_pkl_path = Path(f\"/mnt/e/metaphlan_databases/{metaphlan_version_id}/{metaphlan_version_id}.pkl\")"
   ]
  },
  {
   "cell_type": "code",
   "execution_count": 31,
   "id": "64c34dcd-00f8-442e-bd30-c3bffa94892f",
   "metadata": {},
   "outputs": [],
   "source": [
    "def extract_from_metaphlan(input_metaphlan_pkl: Path):\n",
    "    parser = MetaphlanParser(input_metaphlan_pkl)\n",
    "\n",
    "    # Extract reference seqs\n",
    "    metaphlan_gene_records = []\n",
    "    for marker_name, record in parser.retrieve_marker_seeds(taxon_label):\n",
    "        marker_len = len(record.seq)\n",
    "        print(f\"Found marker `{marker_name}` (length {marker_len})\")\n",
    "        metaphlan_gene_records.append(record)\n",
    "    return metaphlan_gene_records"
   ]
  },
  {
   "cell_type": "code",
   "execution_count": 32,
   "id": "7436597b-3c68-4607-b17a-e3aba6e98477",
   "metadata": {
    "scrolled": true
   },
   "outputs": [
    {
     "name": "stdout",
     "output_type": "stream",
     "text": [
      "Searching for marker seeds from MetaPhlAn database: mpa_vJun23_CHOCOPhlAnSGB_202307.\n",
      "Target # of markers: 82\n",
      "Found marker `UniRef90_Q8KY50|10__13|SGB8138` (length 550)\n",
      "Found marker `UniRef90_A0A0B7LEH3|1__5|SGB8138` (length 750)\n",
      "Found marker `UniRef90_A0A0B7LJ86|1__4|SGB8138` (length 600)\n",
      "Found marker `UniRef90_Q04HT4|1__4|SGB8138` (length 600)\n",
      "Found marker `UniRef90_A0A064C162|1__8|SGB8138` (length 1200)\n",
      "Found marker `UniRef90_Q97Q31|1__5|SGB8138` (length 750)\n",
      "Found marker `UniRef90_A0A0T7IL18|1__11|SGB8138` (length 1650)\n",
      "Found marker `UniRef90_Q8DQP1|2__5|SGB8138` (length 550)\n",
      "Found marker `UniRef90_G0I9W6|1__3|SGB8138` (length 450)\n",
      "Found marker `UniRef90_A0A0B7MFD2|1__5|SGB8138` (length 750)\n",
      "Found marker `UniRef90_A0A098ZM76|1__5|SGB8138` (length 700)\n",
      "Found marker `UniRef90_Q04KL8|2__5|SGB8138` (length 500)\n",
      "Found marker `UniRef90_Q04KL8|8__11|SGB8138` (length 500)\n",
      "Found marker `UniRef90_A0A098Z6R5|1__5|SGB8138` (length 750)\n",
      "Found marker `UniRef90_A0A0B7LW19|3__8|SGB8138` (length 850)\n",
      "Found marker `UniRef90_P0A4G0|1__7|SGB8138` (length 1000)\n",
      "Found marker `UniRef90_P0A4G0|9__12|SGB8138` (length 500)\n",
      "Found marker `UniRef90_A0A3P6KR62|1__5|SGB8138` (length 700)\n",
      "Found marker `UniRef90_A0A0T7ZU75|1__6|SGB8138` (length 900)\n",
      "Found marker `UniRef90_G0I9V6|1__6|SGB8138` (length 900)\n",
      "Found marker `UniRef90_C1CBV2|3__6|SGB8138` (length 550)\n",
      "Found marker `UniRef90_A0A0B7L8S3|1__8|SGB8138` (length 1200)\n",
      "Found marker `UniRef90_A0A0B7L8S6|4__9|SGB8138` (length 850)\n",
      "Found marker `UniRef90_A0A0B7LDL8|1__5|SGB8138` (length 750)\n",
      "Found marker `UniRef90_Q8DR34|4__8|SGB8138` (length 650)\n",
      "Found marker `UniRef90_A0A0B7L9E8|1__5|SGB8138` (length 700)\n",
      "Found marker `UniRef90_A0A0T7JV19|1__4|SGB8138` (length 550)\n",
      "Found marker `UniRef90_B1IAB5|1__4|SGB8138` (length 600)\n",
      "Found marker `UniRef90_D6ZM39|1__3|SGB8138` (length 450)\n",
      "Found marker `UniClust90_EOIGBIGK01252|1__13|SGB8138` (length 1900)\n",
      "Found marker `UniRef90_Q8DP63|1__9|SGB8138` (length 1350)\n",
      "Found marker `UniRef90_Q97RK0|7__10|SGB8138` (length 500)\n",
      "Found marker `UniRef90_P65678|1__4|SGB8138` (length 600)\n",
      "Found marker `UniRef90_A0A0B7KQ20|1__3|SGB8138` (length 450)\n",
      "Found marker `UniRef90_P18791|1__13|SGB8138` (length 1950)\n",
      "Found marker `UniRef90_A0A098ZAM3|1__5|SGB8138` (length 750)\n",
      "Found marker `UniRef90_A0A0E7Z3V3|2__5|SGB8138` (length 500)\n",
      "Found marker `UniRef90_A0A158LLN8|1__4|SGB8138` (length 600)\n",
      "Found marker `UniRef90_A0A0E7KJL4|2__10|SGB8138` (length 1300)\n",
      "Found marker `UniRef90_A0A098Z3T3|1__6|SGB8138` (length 900)\n",
      "Found marker `UniRef90_C1CDK6|1__6|SGB8138` (length 900)\n",
      "Found marker `UniRef90_P0C2J9|1__9|SGB8138` (length 1350)\n",
      "Found marker `UniRef90_A0A064C282|1__4|SGB8138` (length 550)\n",
      "Found marker `UniRef90_B1IAA4|1__6|SGB8138` (length 900)\n",
      "Found marker `UniRef90_A0A0B7LQD4|1__9|SGB8138` (length 1300)\n",
      "Found marker `UniRef90_Q9S1J4|1__4|SGB8138` (length 600)\n",
      "Found marker `UniRef90_Q9S1J3|1__6|SGB8138` (length 850)\n",
      "Found marker `UniRef90_P59676|1__4|SGB8138` (length 550)\n",
      "Found marker `UniRef90_Q04707|1__14|SGB8138` (length 2100)\n",
      "Found marker `UniRef90_A0A0H2ZLQ1|4__11|SGB8138` (length 1150)\n",
      "Found marker `UniRef90_A0A0I6FCP2|1__5|SGB8138` (length 750)\n",
      "Found marker `UniRef90_B1I821|1__7|SGB8138` (length 1050)\n",
      "Found marker `UniRef90_B1I822|1__6|SGB8138` (length 900)\n",
      "Found marker `UniRef90_A0A0B7LBM5|1__7|SGB8138` (length 1050)\n",
      "Found marker `UniClust90_HCFPHHCK00929|1__5|SGB8138` (length 750)\n",
      "Found marker `UniRef90_A0A0B7KTA8|1__9|SGB8138` (length 1350)\n",
      "Found marker `UniRef90_A0A0B7L1J4|1__3|SGB8138` (length 450)\n",
      "Found marker `UniRef90_Q8DN67|1__3|SGB8138` (length 450)\n",
      "Found marker `UniRef90_A0A0B7MAV5|1__6|SGB8138` (length 850)\n",
      "Found marker `UniRef90_A0A098ZQD6|1__4|SGB8138` (length 550)\n",
      "Found marker `UniRef90_P0A3Y7|1__4|SGB8138` (length 600)\n",
      "Found marker `UniRef90_A0A0B7MDJ4|4__7|SGB8138` (length 500)\n",
      "Found marker `UniRef90_P06653|2__6|SGB8138` (length 700)\n",
      "Found marker `UniRef90_A0A096XWU9|2__6|SGB8138` (length 700)\n",
      "Found marker `UniRef90_A0A0U0F895|1__4|SGB8138` (length 600)\n",
      "Found marker `UniRef90_A0A3P6L4J4|1__4|SGB8138` (length 600)\n",
      "Found marker `UniRef90_A0A0B7LQD4|15__22|SGB8138` (length 1150)\n",
      "Found marker `UniRef90_A0A098ZQ84|2__7|SGB8138` (length 800)\n",
      "Found marker `UniRef90_A0A0B7M974|1__10|SGB8138` (length 1500)\n",
      "Found marker `UniRef90_A0A0I5P1N8|1__7|SGB8138` (length 1050)\n",
      "Found marker `UniRef90_A0A0B7LIN3|1__7|SGB8138` (length 1050)\n",
      "Found marker `UniRef90_A0A0D6J947|1__9|SGB8138` (length 1350)\n",
      "Found marker `UniRef90_A0A0E9GMG8|1__12|SGB8138` (length 1800)\n",
      "Found marker `UniRef90_A0A064C2F5|1__5|SGB8138` (length 750)\n",
      "Found marker `UniRef90_Q9ANY1|13__20|SGB8138` (length 1150)\n",
      "Found marker `UniRef90_A0A0B7LD13|1__3|SGB8138` (length 450)\n",
      "Found marker `UniRef90_C1CBF8|1__3|SGB8138` (length 450)\n",
      "Found marker `UniRef90_A0A384ZZY7|1__8|SGB8138` (length 1200)\n",
      "Found marker `UniRef90_Q8DRF0|1__4|SGB8138` (length 600)\n",
      "Found marker `UniRef90_A0A0E8YZM5|1__7|SGB8138` (length 1050)\n",
      "Found marker `UniRef90_D6ZQ15|1__8|SGB8138` (length 1200)\n",
      "Found marker `UniRef90_Q04MR3|1__3|SGB8138` (length 450)\n"
     ]
    }
   ],
   "source": [
    "metaphlan_genes = extract_from_metaphlan(metaphlan_pkl_path)"
   ]
  },
  {
   "cell_type": "code",
   "execution_count": 35,
   "id": "408be46b-1915-4c03-9f39-ff57e0b2e741",
   "metadata": {},
   "outputs": [],
   "source": [
    "# Write each individual MetaPhlAn gene to fasta.\n",
    "metaphlan_index = []\n",
    "for metaphlan_gene in metaphlan_genes:\n",
    "    record = SeqRecord(\n",
    "        seq=metaphlan_gene.seq,\n",
    "        id=metaphlan_gene.id,\n",
    "        description=f\"MLST {taxon_label} marker gene version {metaphlan_version_id}\"\n",
    "    )\n",
    "\n",
    "    uniref_id, middle_tag, sgb_id = metaphlan_gene.id.split(\"|\")\n",
    "    # Turn this into something posix-friendly.\n",
    "    filename = f'{uniref_id}-{middle_tag}-{sgb_id}.fasta'\n",
    "    with open(gene_basedir / filename, 'wt') as f:\n",
    "        SeqIO.write([record], f, 'fasta')\n",
    "    \n",
    "    metaphlan_index.append({'Name': f'{uniref_id}-{middle_tag}-{sgb_id}', 'Fasta': filename, 'Metadata': f'MetaPhlAn {metaphlan_version_id}'})\n",
    "\n",
    "metaphlan_index = pd.DataFrame(metaphlan_index)"
   ]
  },
  {
   "cell_type": "code",
   "execution_count": 36,
   "id": "33ca7ce7-c4b2-434c-ab14-74b43841e283",
   "metadata": {},
   "outputs": [
    {
     "data": {
      "text/html": [
       "<div>\n",
       "<style scoped>\n",
       "    .dataframe tbody tr th:only-of-type {\n",
       "        vertical-align: middle;\n",
       "    }\n",
       "\n",
       "    .dataframe tbody tr th {\n",
       "        vertical-align: top;\n",
       "    }\n",
       "\n",
       "    .dataframe thead th {\n",
       "        text-align: right;\n",
       "    }\n",
       "</style>\n",
       "<table border=\"1\" class=\"dataframe\">\n",
       "  <thead>\n",
       "    <tr style=\"text-align: right;\">\n",
       "      <th></th>\n",
       "      <th>Name</th>\n",
       "      <th>Fasta</th>\n",
       "      <th>Metadata</th>\n",
       "    </tr>\n",
       "  </thead>\n",
       "  <tbody>\n",
       "    <tr>\n",
       "      <th>0</th>\n",
       "      <td>UniRef90_Q8KY50-10__13-SGB8138</td>\n",
       "      <td>UniRef90_Q8KY50-10__13-SGB8138.fasta</td>\n",
       "      <td>MetaPhlAn mpa_vJun23_CHOCOPhlAnSGB_202307</td>\n",
       "    </tr>\n",
       "    <tr>\n",
       "      <th>1</th>\n",
       "      <td>UniRef90_A0A0B7LEH3-1__5-SGB8138</td>\n",
       "      <td>UniRef90_A0A0B7LEH3-1__5-SGB8138.fasta</td>\n",
       "      <td>MetaPhlAn mpa_vJun23_CHOCOPhlAnSGB_202307</td>\n",
       "    </tr>\n",
       "    <tr>\n",
       "      <th>2</th>\n",
       "      <td>UniRef90_A0A0B7LJ86-1__4-SGB8138</td>\n",
       "      <td>UniRef90_A0A0B7LJ86-1__4-SGB8138.fasta</td>\n",
       "      <td>MetaPhlAn mpa_vJun23_CHOCOPhlAnSGB_202307</td>\n",
       "    </tr>\n",
       "    <tr>\n",
       "      <th>3</th>\n",
       "      <td>UniRef90_Q04HT4-1__4-SGB8138</td>\n",
       "      <td>UniRef90_Q04HT4-1__4-SGB8138.fasta</td>\n",
       "      <td>MetaPhlAn mpa_vJun23_CHOCOPhlAnSGB_202307</td>\n",
       "    </tr>\n",
       "    <tr>\n",
       "      <th>4</th>\n",
       "      <td>UniRef90_A0A064C162-1__8-SGB8138</td>\n",
       "      <td>UniRef90_A0A064C162-1__8-SGB8138.fasta</td>\n",
       "      <td>MetaPhlAn mpa_vJun23_CHOCOPhlAnSGB_202307</td>\n",
       "    </tr>\n",
       "    <tr>\n",
       "      <th>...</th>\n",
       "      <td>...</td>\n",
       "      <td>...</td>\n",
       "      <td>...</td>\n",
       "    </tr>\n",
       "    <tr>\n",
       "      <th>77</th>\n",
       "      <td>UniRef90_A0A384ZZY7-1__8-SGB8138</td>\n",
       "      <td>UniRef90_A0A384ZZY7-1__8-SGB8138.fasta</td>\n",
       "      <td>MetaPhlAn mpa_vJun23_CHOCOPhlAnSGB_202307</td>\n",
       "    </tr>\n",
       "    <tr>\n",
       "      <th>78</th>\n",
       "      <td>UniRef90_Q8DRF0-1__4-SGB8138</td>\n",
       "      <td>UniRef90_Q8DRF0-1__4-SGB8138.fasta</td>\n",
       "      <td>MetaPhlAn mpa_vJun23_CHOCOPhlAnSGB_202307</td>\n",
       "    </tr>\n",
       "    <tr>\n",
       "      <th>79</th>\n",
       "      <td>UniRef90_A0A0E8YZM5-1__7-SGB8138</td>\n",
       "      <td>UniRef90_A0A0E8YZM5-1__7-SGB8138.fasta</td>\n",
       "      <td>MetaPhlAn mpa_vJun23_CHOCOPhlAnSGB_202307</td>\n",
       "    </tr>\n",
       "    <tr>\n",
       "      <th>80</th>\n",
       "      <td>UniRef90_D6ZQ15-1__8-SGB8138</td>\n",
       "      <td>UniRef90_D6ZQ15-1__8-SGB8138.fasta</td>\n",
       "      <td>MetaPhlAn mpa_vJun23_CHOCOPhlAnSGB_202307</td>\n",
       "    </tr>\n",
       "    <tr>\n",
       "      <th>81</th>\n",
       "      <td>UniRef90_Q04MR3-1__3-SGB8138</td>\n",
       "      <td>UniRef90_Q04MR3-1__3-SGB8138.fasta</td>\n",
       "      <td>MetaPhlAn mpa_vJun23_CHOCOPhlAnSGB_202307</td>\n",
       "    </tr>\n",
       "  </tbody>\n",
       "</table>\n",
       "<p>82 rows × 3 columns</p>\n",
       "</div>"
      ],
      "text/plain": [
       "                                Name                                   Fasta  \\\n",
       "0     UniRef90_Q8KY50-10__13-SGB8138    UniRef90_Q8KY50-10__13-SGB8138.fasta   \n",
       "1   UniRef90_A0A0B7LEH3-1__5-SGB8138  UniRef90_A0A0B7LEH3-1__5-SGB8138.fasta   \n",
       "2   UniRef90_A0A0B7LJ86-1__4-SGB8138  UniRef90_A0A0B7LJ86-1__4-SGB8138.fasta   \n",
       "3       UniRef90_Q04HT4-1__4-SGB8138      UniRef90_Q04HT4-1__4-SGB8138.fasta   \n",
       "4   UniRef90_A0A064C162-1__8-SGB8138  UniRef90_A0A064C162-1__8-SGB8138.fasta   \n",
       "..                               ...                                     ...   \n",
       "77  UniRef90_A0A384ZZY7-1__8-SGB8138  UniRef90_A0A384ZZY7-1__8-SGB8138.fasta   \n",
       "78      UniRef90_Q8DRF0-1__4-SGB8138      UniRef90_Q8DRF0-1__4-SGB8138.fasta   \n",
       "79  UniRef90_A0A0E8YZM5-1__7-SGB8138  UniRef90_A0A0E8YZM5-1__7-SGB8138.fasta   \n",
       "80      UniRef90_D6ZQ15-1__8-SGB8138      UniRef90_D6ZQ15-1__8-SGB8138.fasta   \n",
       "81      UniRef90_Q04MR3-1__3-SGB8138      UniRef90_Q04MR3-1__3-SGB8138.fasta   \n",
       "\n",
       "                                     Metadata  \n",
       "0   MetaPhlAn mpa_vJun23_CHOCOPhlAnSGB_202307  \n",
       "1   MetaPhlAn mpa_vJun23_CHOCOPhlAnSGB_202307  \n",
       "2   MetaPhlAn mpa_vJun23_CHOCOPhlAnSGB_202307  \n",
       "3   MetaPhlAn mpa_vJun23_CHOCOPhlAnSGB_202307  \n",
       "4   MetaPhlAn mpa_vJun23_CHOCOPhlAnSGB_202307  \n",
       "..                                        ...  \n",
       "77  MetaPhlAn mpa_vJun23_CHOCOPhlAnSGB_202307  \n",
       "78  MetaPhlAn mpa_vJun23_CHOCOPhlAnSGB_202307  \n",
       "79  MetaPhlAn mpa_vJun23_CHOCOPhlAnSGB_202307  \n",
       "80  MetaPhlAn mpa_vJun23_CHOCOPhlAnSGB_202307  \n",
       "81  MetaPhlAn mpa_vJun23_CHOCOPhlAnSGB_202307  \n",
       "\n",
       "[82 rows x 3 columns]"
      ]
     },
     "execution_count": 36,
     "metadata": {},
     "output_type": "execute_result"
    }
   ],
   "source": [
    "metaphlan_index"
   ]
  },
  {
   "cell_type": "markdown",
   "id": "f9d54d06-37bb-4813-902f-1aebb953691e",
   "metadata": {},
   "source": [
    "# Write the index files."
   ]
  },
  {
   "cell_type": "code",
   "execution_count": 37,
   "id": "65d69d6e-be12-4215-867e-32d2a025e32b",
   "metadata": {},
   "outputs": [],
   "source": [
    "concat_index = pd.concat([mlst_index, metaphlan_index])\n",
    "concat_index.to_csv(gene_basedir / \"marker_seed_index.tsv\", sep='\\t', index=False, header=False)"
   ]
  }
 ],
 "metadata": {
  "kernelspec": {
   "display_name": "chronostrain",
   "language": "python",
   "name": "chronostrain"
  },
  "language_info": {
   "codemirror_mode": {
    "name": "ipython",
    "version": 3
   },
   "file_extension": ".py",
   "mimetype": "text/x-python",
   "name": "python",
   "nbconvert_exporter": "python",
   "pygments_lexer": "ipython3",
   "version": "3.10.13"
  }
 },
 "nbformat": 4,
 "nbformat_minor": 5
}
