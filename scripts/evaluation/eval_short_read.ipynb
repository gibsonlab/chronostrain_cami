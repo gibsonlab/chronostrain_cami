{
 "cells": [
  {
   "cell_type": "code",
   "execution_count": 1,
   "id": "abec8193-622c-4548-9e81-f784ce1f673b",
   "metadata": {},
   "outputs": [
    {
     "name": "stdout",
     "output_type": "stream",
     "text": [
      "env: CHRONOSTRAIN_INI=../chronostrain/chronostrain.ini\n",
      "env: CHRONOSTRAIN_CACHE_DIR=./cache\n",
      "env: CHRONOSTRAIN_DB_DIR=./db_placeholder\n",
      "env: CHRONOSTRAIN_DB_JSON=none\n",
      "2024-09-06 16:58:22,840 [INFO - chronostrain.util.alignments.pairwise.wrappers] - If invoked, bowtie2 will initialize using default setting `phred33`. (TODO: implement some flexibility here.)\n"
     ]
    }
   ],
   "source": [
    "%env CHRONOSTRAIN_INI=../chronostrain/chronostrain.ini\n",
    "%env CHRONOSTRAIN_CACHE_DIR=./cache\n",
    "%env CHRONOSTRAIN_DB_DIR=./db_placeholder\n",
    "%env CHRONOSTRAIN_DB_JSON=none\n",
    "\n",
    "from pathlib import Path\n",
    "from ground_truth import filter_profiles, renormalize_profile, SpeciesLabel\n",
    "from chronostrain_eval import extract_chronostrain_prediction, chronostrain_prediction_to_profile, ChronoStrainInferenceResult"
   ]
  },
  {
   "cell_type": "code",
   "execution_count": 2,
   "id": "7e6aece3-5967-4530-a732-1cbf927e1331",
   "metadata": {},
   "outputs": [
    {
     "name": "stdout",
     "output_type": "stream",
     "text": [
      "strmgCAMI2_short_read_sample_0\n"
     ]
    }
   ],
   "source": [
    "truth_iterator = iter(filter_profiles(\"../../data/gs_strain_madness_short_long.profile.txt\"))\n",
    "sample_tag, profile_df = next(truth_iterator)\n",
    "# sample_tag, profile_df = next(truth_iterator)\n",
    "# sample_tag, profile_df = next(truth_iterator)\n",
    "print(sample_tag)\n",
    "\n",
    "true_profile = renormalize_profile(profile_df, SpeciesLabel(\"Escherichia\", \"coli\"))"
   ]
  },
  {
   "cell_type": "code",
   "execution_count": 3,
   "id": "bb9f4e0a-0f7e-40c9-81e9-133316fd1fcb",
   "metadata": {
    "scrolled": true
   },
   "outputs": [
    {
     "data": {
      "text/plain": [
       "array([3.13227899e-05, 3.33160583e-04, 2.44602514e-02, 9.22598539e-04,\n",
       "       6.26455798e-05, 2.96996999e-03, 9.57338360e-03, 6.89101378e-04,\n",
       "       1.08718556e-02, 2.51436577e-03, 1.30986212e-04, 5.41030007e-05,\n",
       "       1.36966018e-03, 2.47421565e-02, 1.08206001e-03, 3.41526616e-01,\n",
       "       7.57442010e-04, 8.58244443e-03, 5.73320956e-02, 3.13227899e-05,\n",
       "       1.16509388e-01, 8.21511353e-03, 2.22107056e-04, 4.08904784e-03,\n",
       "       8.82733170e-05, 1.96479318e-04, 1.19596107e-04, 4.72689375e-04,\n",
       "       2.52290835e-03, 3.53093268e-04, 1.13046796e-03, 1.53766423e-02,\n",
       "       8.08697484e-04, 8.99818328e-04, 4.47061638e-04, 3.47398215e-04,\n",
       "       2.27802108e-05, 2.05021897e-04, 1.11395231e-02, 1.01884493e-02,\n",
       "       1.08206001e-03, 3.41703162e-05, 4.47061638e-03, 8.14392537e-04,\n",
       "       8.45715327e-04, 8.28630169e-04, 1.08206001e-04, 3.54232278e-03,\n",
       "       5.69505271e-06, 3.04685320e-04, 4.32254501e-03, 4.27128953e-05,\n",
       "       2.34892449e-02, 2.10289821e-02, 9.39683697e-05, 1.39528791e-04,\n",
       "       1.11053528e-04, 3.35438604e-03, 1.30416707e-03, 6.73724735e-03,\n",
       "       6.94796430e-04, 1.97931557e-02, 1.62309002e-04, 2.84752635e-06,\n",
       "       3.21770478e-04, 2.84752635e-05, 1.59461476e-04, 1.73699108e-04,\n",
       "       6.14211435e-03, 5.08340405e-02, 1.20165612e-03, 1.04219465e-03,\n",
       "       6.43540956e-04, 1.22443633e-04, 2.59124898e-04, 4.84079480e-05,\n",
       "       3.95806163e-03, 8.99818328e-04, 1.95625061e-03, 9.99253948e-02,\n",
       "       1.05358475e-04, 1.60885239e-03, 2.76494809e-03, 4.78384427e-04,\n",
       "       9.51073802e-03, 2.17949667e-02, 1.70851581e-05, 3.27465531e-04,\n",
       "       9.05513381e-04, 2.51778280e-02, 7.11881588e-05, 1.08206001e-03,\n",
       "       1.08490754e-03, 6.97359204e-03, 2.84752635e-04, 3.13227899e-05,\n",
       "       5.35904460e-03])"
      ]
     },
     "metadata": {},
     "output_type": "display_data"
    },
    {
     "data": {
      "text/plain": [
       "['spades_And10062_S12_L001',\n",
       " 'spades_ESBL10056_S9_L001',\n",
       " 'spades_And5213_S1_L001',\n",
       " 'spades_And9855_S12_L001',\n",
       " 'spades_ESBL7021_S2_L001',\n",
       " 'spades_And4191_S5_L001',\n",
       " 'spades_And4355_S8_L001',\n",
       " 'spades_And5042_S4_L001',\n",
       " 'spades_And4180_S6_L001',\n",
       " 'spades_ESBL5734_S3_L001',\n",
       " 'spades_And7051_S7_L001',\n",
       " 'spades_ESBL7348_S6_L001',\n",
       " 'spades_AND9183_S11_L001',\n",
       " 'spades_ESBL5402_S6_L001',\n",
       " 'spades_ESBL7531_S9_L001',\n",
       " 'spades_And7556_S8_L001',\n",
       " 'spades_And9426_S4_L001',\n",
       " 'spades_ESBL10030_S2_L001',\n",
       " 'spades_ESBL9044_S9_L001',\n",
       " 'spades_And10073_S10_L001',\n",
       " 'spades_ESBL9861_S4_L001',\n",
       " 'spades_ESBL7534_S10_L001',\n",
       " 'spades_And4366_S2_L001',\n",
       " 'spades_And4902_S2_L001',\n",
       " 'spades_ESBL6455_S6_L001',\n",
       " 'spades_ESBL9336_S1_L001',\n",
       " 'spades_ESBL7359_S3_L001',\n",
       " 'spades_ESBL1009_S1_L001',\n",
       " 'spades_And9454_S3_L001',\n",
       " 'spades_ESBL6364_S9_L001',\n",
       " 'spades_And4955_S10_L001',\n",
       " 'spades_ESBL7532_S2_L001',\n",
       " 'spades_ESBL5621_S1_L001',\n",
       " 'spades_ESBL5792_S6_L001',\n",
       " 'spades_ESBL9166_S11_L001',\n",
       " 'spades_AND4471_S1_L001',\n",
       " 'spades_ESBL7382_S4_L001',\n",
       " 'spades_And6399_S9_L001',\n",
       " 'spades_ESBL5660_S7_L001',\n",
       " 'spades_And5232_S2_L001',\n",
       " 'spades_And4613_S9_L001',\n",
       " 'spades_And5444_S7_L001',\n",
       " 'spades_And8344_S10_L001',\n",
       " 'spades_ESBL6418_S2_L001',\n",
       " 'spades_ESBL7634_S2_L001',\n",
       " 'spades_ESBL5817_S7_L001',\n",
       " 'spades_And4858_S9_L001',\n",
       " 'spades_ESBL5786_S5_L001',\n",
       " 'spades_ESBL8411_S7_L001',\n",
       " 'spades_And10026_S11_L001',\n",
       " 'spades_And7225_S6_L001',\n",
       " 'spades_ESBL8604_S8_L001',\n",
       " 'spades_ESBL6200_S12_L001',\n",
       " 'spades_ESBL7586_S7_L001',\n",
       " 'spades_ESBL6101_S9_L001',\n",
       " 'spades_ESBL10011_S11_L001',\n",
       " 'spades_And8382_S4_L001',\n",
       " 'spades_ESBL5872_S5_L001',\n",
       " 'spades_ESBL9875_S5_L001',\n",
       " 'spades_And7187_S3_L001',\n",
       " 'spades_ESBL6164_S11_L001',\n",
       " 'spades_ESBL6210_S10_L001',\n",
       " 'spades_And5141_S4_L001',\n",
       " 'spades_ESBL5533_S4_L001',\n",
       " 'spades_ESBL5772_S6_L001',\n",
       " 'spades_And9205_S9_L001',\n",
       " 'spades_ESBL6724_S11_L001',\n",
       " 'spades_ESBL7525_S1_L001',\n",
       " 'spades_And6342_S10_L001',\n",
       " 'spades_ESBL5909_S5_L001',\n",
       " 'spades_ESBL5784_S3_L001',\n",
       " 'spades_And4621_S3_L001',\n",
       " 'spades_And8909_S4_L001',\n",
       " 'spades_ESBL5497_S3_L001',\n",
       " 'spades_ESBL10055_S8_L001',\n",
       " 'spades_ESBL9318_S2_L001',\n",
       " 'spades_And5192_S3_L001',\n",
       " 'spades_ESBL5613_S5_L001',\n",
       " 'spades_ESBL5852_S11_L001',\n",
       " 'spades_ESBL9654_S5_L001',\n",
       " 'spades_And6400_S11_L001',\n",
       " 'spades_And9183_S10_L001',\n",
       " 'spades_And5388_S8_L001',\n",
       " 'spades_ESBL5780_S5_L001',\n",
       " 'spades_And9693_S1_L001',\n",
       " 'spades_ESBL5481_S10_L001',\n",
       " 'spades_And9746_S7_L001',\n",
       " 'spades_ESBL6351_S5_L001',\n",
       " 'spades_And9653_S7_L001',\n",
       " 'spades_ESBL7347_S10_L001',\n",
       " 'spades_And8388_S5_L001',\n",
       " 'spades_ESBL5827_S10_L001',\n",
       " 'spades_ESBL5609_S2_L001',\n",
       " 'spades_ESBL6983_S3_L001',\n",
       " 'spades_ESBL7234_S12_L001',\n",
       " 'spades_ESBL7424_S8_L001',\n",
       " 'spades_ESBL8514_S7_L001']"
      ]
     },
     "metadata": {},
     "output_type": "display_data"
    }
   ],
   "source": [
    "display(true_profile.abundance_ratios)\n",
    "display(true_profile.strain_ids)"
   ]
  },
  {
   "cell_type": "code",
   "execution_count": 4,
   "id": "cdd843f6-2f6e-47f1-8f90-73848e744ea6",
   "metadata": {},
   "outputs": [
    {
     "name": "stdout",
     "output_type": "stream",
     "text": [
      "2024-09-06 16:58:27,591 [INFO - chronostrain.inference.algs.vi.posteriors.gaussians_zeroes] - Initializing Fully joint posterior with Global Zeros\n"
     ]
    }
   ],
   "source": [
    "inference_dir = Path(\"/mnt/e/CAMI_strain_madness/inference/output/chronostrain_gold_standard_only/sample_0\")\n",
    "inference_result = extract_chronostrain_prediction(inference_dir)\n",
    "pred_profile = chronostrain_prediction_to_profile(inference_result, true_profile.strain_ids, posterior_lb=0.0)"
   ]
  },
  {
   "cell_type": "code",
   "execution_count": 5,
   "id": "24ee23ab-43b1-434a-b49e-54e09f8fb83c",
   "metadata": {},
   "outputs": [
    {
     "data": {
      "text/plain": [
       "(5000, 97)"
      ]
     },
     "metadata": {},
     "output_type": "display_data"
    },
    {
     "data": {
      "text/plain": [
       "(97,)"
      ]
     },
     "metadata": {},
     "output_type": "display_data"
    }
   ],
   "source": [
    "display(pred_profile.abundance_ratios.shape)\n",
    "display(true_profile.abundance_ratios.shape)"
   ]
  },
  {
   "cell_type": "code",
   "execution_count": 6,
   "id": "4732aa53-2755-451f-97b1-eae32a9f9d93",
   "metadata": {},
   "outputs": [
    {
     "name": "stdout",
     "output_type": "stream",
     "text": [
      "L1: 0.9982561041201685, RMS-LOG: 1.2485664801575098\n"
     ]
    }
   ],
   "source": [
    "import numpy as np\n",
    "\n",
    "\n",
    "_pred = np.median(pred_profile.abundance_ratios, axis=0)\n",
    "_truth = true_profile.abundance_ratios\n",
    "\n",
    "l1_error = np.abs(_pred - _truth).sum()\n",
    "rms_log_error = np.sqrt(np.mean(np.square(\n",
    "    np.log10(_pred) - np.log10(_truth)\n",
    ")))\n",
    "\n",
    "print(\"L1: {}, RMS-LOG: {}\".format(\n",
    "    l1_error, rms_log_error\n",
    "))"
   ]
  },
  {
   "cell_type": "code",
   "execution_count": null,
   "id": "e592ada1-7931-4612-ad0e-840eae61b67e",
   "metadata": {},
   "outputs": [],
   "source": []
  }
 ],
 "metadata": {
  "kernelspec": {
   "display_name": "chronostrain",
   "language": "python",
   "name": "chronostrain"
  },
  "language_info": {
   "codemirror_mode": {
    "name": "ipython",
    "version": 3
   },
   "file_extension": ".py",
   "mimetype": "text/x-python",
   "name": "python",
   "nbconvert_exporter": "python",
   "pygments_lexer": "ipython3",
   "version": "3.10.13"
  }
 },
 "nbformat": 4,
 "nbformat_minor": 5
}
